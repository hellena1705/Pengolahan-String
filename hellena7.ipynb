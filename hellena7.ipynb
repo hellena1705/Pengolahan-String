{
  "nbformat": 4,
  "nbformat_minor": 0,
  "metadata": {
    "colab": {
      "provenance": []
    },
    "kernelspec": {
      "name": "python3",
      "display_name": "Python 3"
    },
    "language_info": {
      "name": "python"
    }
  },
  "cells": [
    {
      "cell_type": "markdown",
      "source": [
        "soal 1"
      ],
      "metadata": {
        "id": "00E4xG8Mk8x8"
      }
    },
    {
      "cell_type": "code",
      "source": [
        "def cek_anagram(kata1, kata2):\n",
        "\n",
        "    kata1 = kata1.replace(\" \", \"\").lower()\n",
        "    kata2 = kata2.replace(\" \", \"\").lower()\n",
        "\n",
        "\n",
        "    sorted_kata1 = sorted(kata1)\n",
        "    sorted_kata2 = sorted(kata2)\n",
        "\n",
        "\n",
        "    if sorted_kata1 == sorted_kata2:\n",
        "        return True\n",
        "    else:\n",
        "        return False\n",
        "\n",
        "\n",
        "kata1 = input(\"Masukkan kata pertama: \")\n",
        "kata2 = input(\"Masukkan kata kedua: \")\n",
        "\n",
        "if cek_anagram(kata1, kata2):\n",
        "    print(f\"{kata1} dan {kata2} adalah anagram.\")\n",
        "else:\n",
        "    print(f\"{kata1} dan {kata2} bukan anagram.\")"
      ],
      "metadata": {
        "colab": {
          "base_uri": "https://localhost:8080/"
        },
        "id": "vb7tf4Ydk-B1",
        "outputId": "9fb386c8-d0ad-4f3b-cd97-f515973f0339"
      },
      "execution_count": 3,
      "outputs": [
        {
          "output_type": "stream",
          "name": "stdout",
          "text": [
            "Masukkan kata pertama: mata\n",
            "Masukkan kata kedua: atma\n",
            "mata dan atma adalah anagram.\n"
          ]
        }
      ]
    },
    {
      "cell_type": "markdown",
      "source": [
        "soal 2"
      ],
      "metadata": {
        "id": "8TdNaK0Jl0kU"
      }
    },
    {
      "cell_type": "code",
      "source": [
        "def hitung_kemunculan_kata(kalimat, kata):\n",
        "\n",
        "    kalimat = kalimat.lower()\n",
        "\n",
        "    kemunculan = kalimat.count(kata.lower())\n",
        "    return kemunculan\n",
        "\n",
        "\n",
        "kalimat = \"Saya mau makan. Makan itu wajib. Mau siang atau malam saya wajib makan\"\n",
        "kata_dicari = \"makan\"\n",
        "\n",
        "jumlah_kemunculan = hitung_kemunculan_kata(kalimat, kata_dicari)\n",
        "print(f\"{kata_dicari} ada {jumlah_kemunculan} buah.\")"
      ],
      "metadata": {
        "colab": {
          "base_uri": "https://localhost:8080/"
        },
        "id": "UBWr5emdl1zg",
        "outputId": "b26e1dae-223f-4699-d195-352233c88202"
      },
      "execution_count": 4,
      "outputs": [
        {
          "output_type": "stream",
          "name": "stdout",
          "text": [
            "makan ada 3 buah.\n"
          ]
        }
      ]
    },
    {
      "cell_type": "markdown",
      "source": [
        "soal 3"
      ],
      "metadata": {
        "id": "8wezwyKcmVLO"
      }
    },
    {
      "cell_type": "code",
      "source": [
        "def normalisasi_spasi(kalimat):\n",
        "\n",
        "    kata_kalimat = kalimat.split()\n",
        "\n",
        "    kalimat_normal = ' '.join(kata_kalimat)\n",
        "    return kalimat_normal\n",
        "\n",
        "\n",
        "kalimat = \"saya tidak suka     memancing ikan   \"\n",
        "kalimat_normal = normalisasi_spasi(kalimat)\n",
        "print(\"Output:\", kalimat_normal)"
      ],
      "metadata": {
        "colab": {
          "base_uri": "https://localhost:8080/"
        },
        "id": "vS27H9ximWXi",
        "outputId": "6627ad62-1dd3-41b4-a48e-d98b9719f524"
      },
      "execution_count": 5,
      "outputs": [
        {
          "output_type": "stream",
          "name": "stdout",
          "text": [
            "Output: saya tidak suka memancing ikan\n"
          ]
        }
      ]
    },
    {
      "cell_type": "markdown",
      "source": [
        "soal 4"
      ],
      "metadata": {
        "id": "q4viR8Hlm9Ck"
      }
    },
    {
      "cell_type": "code",
      "source": [
        "def kata_terpendek_terpanjang(kalimat):\n",
        "\n",
        "    kata_kalimat = kalimat.split()\n",
        "\n",
        "\n",
        "    kata_terpendek = kata_kalimat[0]\n",
        "    kata_terpanjang = kata_kalimat[0]\n",
        "\n",
        "\n",
        "    for kata in kata_kalimat:\n",
        "        if len(kata) < len(kata_terpendek):\n",
        "            kata_terpendek = kata\n",
        "        elif len(kata) > len(kata_terpanjang):\n",
        "            kata_terpanjang = kata\n",
        "\n",
        "    return kata_terpendek, kata_terpanjang\n",
        "\n",
        "\n",
        "kalimat = \"red snakes and a black frog in the pool\"\n",
        "kata_terpendek, kata_terpanjang = kata_terpendek_terpanjang(kalimat)\n",
        "print(\"Output:\")\n",
        "print(\"Terpendek:\", kata_terpendek)\n",
        "print(\"Terpanjang:\", kata_terpanjang)"
      ],
      "metadata": {
        "colab": {
          "base_uri": "https://localhost:8080/"
        },
        "id": "w_V1SyG_m-Wy",
        "outputId": "8cd3685c-5137-44fe-bc1d-5a58eb20a124"
      },
      "execution_count": 6,
      "outputs": [
        {
          "output_type": "stream",
          "name": "stdout",
          "text": [
            "Output:\n",
            "Terpendek: a\n",
            "Terpanjang: snakes\n"
          ]
        }
      ]
    }
  ]
}